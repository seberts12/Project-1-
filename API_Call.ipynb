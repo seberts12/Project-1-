{
 "cells": [
  {
   "cell_type": "code",
   "execution_count": 1,
   "id": "a4065b3e-b61b-412a-83dc-e1e81fdd1c81",
   "metadata": {},
   "outputs": [],
   "source": [
    "import os\n",
    "import requests\n",
    "from dotenv import load_dotenv\n",
    "import alpaca_trade_api as tradeapi\n",
    "import questionary "
   ]
  },
  {
   "cell_type": "code",
   "execution_count": 2,
   "id": "42b99d1b-953e-4cf0-ab59-38ffcc0d1946",
   "metadata": {},
   "outputs": [],
   "source": [
    "def api_call():\n",
    "    load_dotenv()\n",
    "    \n",
    "    alpaca_api = os.getenv(\"ALPACA_API_KEY\")\n",
    "    alpaca_secret = os.getenv(\"ALPACA_SECRET_KEY\")\n",
    "    \n",
    "    alpaca = tradeapi.REST(\n",
    "        alpaca_api,\n",
    "        alpaca_secret,\n",
    "        api_version=\"v2\"\n",
    "    )\n",
    "    \n",
    "    return alpaca"
   ]
  }
 ],
 "metadata": {
  "kernelspec": {
   "display_name": "Python 3 (ipykernel)",
   "language": "python",
   "name": "python3"
  },
  "language_info": {
   "codemirror_mode": {
    "name": "ipython",
    "version": 3
   },
   "file_extension": ".py",
   "mimetype": "text/x-python",
   "name": "python",
   "nbconvert_exporter": "python",
   "pygments_lexer": "ipython3",
   "version": "3.7.13"
  },
  "vscode": {
   "interpreter": {
    "hash": "3b089665d13d363aba18a879457e08f08011e1a89a8f470e95246bb93780f6d6"
   }
  }
 },
 "nbformat": 4,
 "nbformat_minor": 5
}
