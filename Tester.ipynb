{
 "cells": [
  {
   "cell_type": "code",
   "execution_count": 12,
   "id": "eddbd5d0-53db-49d9-a20c-ff1a74da4852",
   "metadata": {},
   "outputs": [],
   "source": [
    "\n",
    "\n",
    "# Create a list of the tickers\n",
    "import os\n",
    "import requests\n",
    "import json\n",
    "import pandas as pd\n",
    "from dotenv import load_dotenv\n",
    "import alpaca_trade_api as tradeapi\n",
    "import streamlit as st\n",
    "from api_caller import api_call\n",
    "from helper_clean import historical_data_cleaner \n",
    "import numpy as np"
   ]
  },
  {
   "cell_type": "code",
   "execution_count": 13,
   "id": "be405ba4-fc83-4a18-822c-32318fbdba92",
   "metadata": {},
   "outputs": [
    {
     "data": {
      "text/html": [
       "<div>\n",
       "<style scoped>\n",
       "    .dataframe tbody tr th:only-of-type {\n",
       "        vertical-align: middle;\n",
       "    }\n",
       "\n",
       "    .dataframe tbody tr th {\n",
       "        vertical-align: top;\n",
       "    }\n",
       "\n",
       "    .dataframe thead th {\n",
       "        text-align: right;\n",
       "    }\n",
       "</style>\n",
       "<table border=\"1\" class=\"dataframe\">\n",
       "  <thead>\n",
       "    <tr style=\"text-align: right;\">\n",
       "      <th></th>\n",
       "      <th>Timestamp</th>\n",
       "      <th>AMZN</th>\n",
       "      <th>GOOG</th>\n",
       "      <th>WMT</th>\n",
       "      <th>JPM</th>\n",
       "    </tr>\n",
       "  </thead>\n",
       "  <tbody>\n",
       "    <tr>\n",
       "      <th>0</th>\n",
       "      <td>2020-07-06 04:00:00+00:00</td>\n",
       "      <td>3057.04</td>\n",
       "      <td>1495.70</td>\n",
       "      <td>118.89</td>\n",
       "      <td>95.00</td>\n",
       "    </tr>\n",
       "    <tr>\n",
       "      <th>1</th>\n",
       "      <td>2020-07-07 04:00:00+00:00</td>\n",
       "      <td>3000.12</td>\n",
       "      <td>1485.18</td>\n",
       "      <td>126.95</td>\n",
       "      <td>92.32</td>\n",
       "    </tr>\n",
       "    <tr>\n",
       "      <th>2</th>\n",
       "      <td>2020-07-08 04:00:00+00:00</td>\n",
       "      <td>3081.11</td>\n",
       "      <td>1496.00</td>\n",
       "      <td>124.44</td>\n",
       "      <td>93.30</td>\n",
       "    </tr>\n",
       "    <tr>\n",
       "      <th>3</th>\n",
       "      <td>2020-07-09 04:00:00+00:00</td>\n",
       "      <td>3182.63</td>\n",
       "      <td>1510.99</td>\n",
       "      <td>127.75</td>\n",
       "      <td>91.28</td>\n",
       "    </tr>\n",
       "    <tr>\n",
       "      <th>4</th>\n",
       "      <td>2020-07-10 04:00:00+00:00</td>\n",
       "      <td>3200.00</td>\n",
       "      <td>1541.74</td>\n",
       "      <td>130.68</td>\n",
       "      <td>96.27</td>\n",
       "    </tr>\n",
       "  </tbody>\n",
       "</table>\n",
       "</div>"
      ],
      "text/plain": [
       "                  Timestamp     AMZN     GOOG     WMT    JPM\n",
       "0 2020-07-06 04:00:00+00:00  3057.04  1495.70  118.89  95.00\n",
       "1 2020-07-07 04:00:00+00:00  3000.12  1485.18  126.95  92.32\n",
       "2 2020-07-08 04:00:00+00:00  3081.11  1496.00  124.44  93.30\n",
       "3 2020-07-09 04:00:00+00:00  3182.63  1510.99  127.75  91.28\n",
       "4 2020-07-10 04:00:00+00:00  3200.00  1541.74  130.68  96.27"
      ]
     },
     "execution_count": 13,
     "metadata": {},
     "output_type": "execute_result"
    }
   ],
   "source": [
    "# Read in the csv file\n",
    "# Read in the csv file\n",
    "testing_csv = pd.read_csv('project_1_mockdata.csv')\n",
    "\n",
    "# Create a list of the tickers\n",
    "tickers = testing_csv['Ticker'].to_list()\n",
    "\n",
    "alpaca = api_call()\n",
    "\n",
    "timeframe = \"1Day\"\n",
    "\n",
    "# Create a start and end variables to pull data during this period\n",
    "end = pd.Timestamp(\"2020-07-13\", tz=\"America/New_York\").isoformat()\n",
    "start = pd.Timestamp(\"2020-07-05\", tz=\"America/New_York\").isoformat()\n",
    "\n",
    "# Pull the stock data for our tickers and selected times\n",
    "df_portfolio = alpaca.get_bars(\n",
    "    tickers,\n",
    "    timeframe,\n",
    "    start = start,\n",
    "    end = end\n",
    ").df\n",
    "\n",
    "def make_daily_close(pulled_df, tickers):\n",
    "    \n",
    "    # Create an empty list to hold the dictionaries for each day\n",
    "    closing_data = []\n",
    "    \n",
    "    # Iterate through each unique timestamp to grab each stocks data\n",
    "    for date in pulled_df.index.unique():\n",
    "        \n",
    "        # Create a dictionary to hold the timestamp, and each stocks closing price\n",
    "        day_data = {}\n",
    "        \n",
    "        # Store the current timestamp that we are pulling data for\n",
    "        day_data['Timestamp'] = date\n",
    "        \n",
    "        # Iterate through the tickers for that day, and grab each ones stock price\n",
    "        for stock in tickers:\n",
    "            day_data[stock] = pulled_df.loc[(pulled_df.index == date) & (pulled_df['symbol'] == stock), 'close'].item()\n",
    "        \n",
    "        # Append the current timestamps data to the list\n",
    "        closing_data.append(day_data)\n",
    "        \n",
    "    # Create a dataframe from the list of closing price dictionaries\n",
    "    cleaned_data = pd.DataFrame(closing_data)\n",
    "    \n",
    "    # Return the dataframe\n",
    "    return cleaned_data\n",
    "\n",
    "# Call the function to return the cleaned daily data for our portfolio\n",
    "cleaned_df = make_daily_close(df_portfolio, tickers)\n",
    "cleaned_df.head()\n",
    "\n"
   ]
  },
  {
   "cell_type": "code",
   "execution_count": 18,
   "id": "09240972-7c36-4f18-9d94-b0454bc724a8",
   "metadata": {},
   "outputs": [
    {
     "data": {
      "text/plain": [
       "[3104.0, 1511.34, 129.52, 97.65]"
      ]
     },
     "execution_count": 18,
     "metadata": {},
     "output_type": "execute_result"
    }
   ],
   "source": [
    "x = cleaned_df.iloc[-1,1:].to_list()\n",
    "\n",
    "x"
   ]
  },
  {
   "cell_type": "code",
   "execution_count": 45,
   "id": "8692053d-1f8c-4343-82a2-54f9f898f094",
   "metadata": {},
   "outputs": [
    {
     "data": {
      "text/plain": [
       "[5, 7, 20, 25]"
      ]
     },
     "execution_count": 45,
     "metadata": {},
     "output_type": "execute_result"
    }
   ],
   "source": [
    "y = testing_csv[\"Quantity\"].to_list()\n",
    "\n",
    "y"
   ]
  },
  {
   "cell_type": "code",
   "execution_count": 16,
   "id": "96281023-e716-4e2d-865b-0e03f14b76db",
   "metadata": {},
   "outputs": [],
   "source": [
    "total = np.dot(x, y)"
   ]
  },
  {
   "cell_type": "code",
   "execution_count": 17,
   "id": "f24ad51b-b873-4724-a0bf-29c469443845",
   "metadata": {},
   "outputs": [
    {
     "data": {
      "text/plain": [
       "31131.03"
      ]
     },
     "execution_count": 17,
     "metadata": {},
     "output_type": "execute_result"
    }
   ],
   "source": [
    "total"
   ]
  },
  {
   "cell_type": "code",
   "execution_count": 50,
   "id": "1786f0ac-6843-4a81-a201-f274192db5ab",
   "metadata": {},
   "outputs": [],
   "source": [
    "ticker_weights = {}\n",
    "for ticker in tickers:\n",
    "    stock_price = cleaned_df[ticker].to_list()[-1]\n",
    "    stock_quantity = testing_csv.loc[testing_csv['Ticker'] == ticker, 'Quantity'].item()\n",
    "    stock_position = stock_price * stock_quantity\n",
    "    ticker_weights[ticker] = stock_position / total\n",
    "\n",
    "    "
   ]
  },
  {
   "cell_type": "code",
   "execution_count": 51,
   "id": "2c8076a0-5503-40de-8889-0274081f49fd",
   "metadata": {},
   "outputs": [
    {
     "data": {
      "text/plain": [
       "{'AMZN': 0.49853795393213785,\n",
       " 'GOOG': 0.33983392133186724,\n",
       " 'WMT': 0.08320958220784858,\n",
       " 'JPM': 0.07841854252814635}"
      ]
     },
     "execution_count": 51,
     "metadata": {},
     "output_type": "execute_result"
    }
   ],
   "source": [
    "ticker_weights"
   ]
  }
 ],
 "metadata": {
  "kernelspec": {
   "display_name": "Python 3 (ipykernel)",
   "language": "python",
   "name": "python3"
  },
  "language_info": {
   "codemirror_mode": {
    "name": "ipython",
    "version": 3
   },
   "file_extension": ".py",
   "mimetype": "text/x-python",
   "name": "python",
   "nbconvert_exporter": "python",
   "pygments_lexer": "ipython3",
   "version": "3.7.13"
  }
 },
 "nbformat": 4,
 "nbformat_minor": 5
}
